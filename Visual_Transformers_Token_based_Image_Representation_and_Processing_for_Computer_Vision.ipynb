{
  "nbformat": 4,
  "nbformat_minor": 0,
  "metadata": {
    "colab": {
      "name": "Visual Transformers: Token-based Image Representation and Processing for Computer Vision.ipynb",
      "provenance": [],
      "collapsed_sections": []
    },
    "kernelspec": {
      "name": "python3",
      "display_name": "Python 3"
    },
    "language_info": {
      "name": "python"
    },
    "accelerator": "GPU",
    "widgets": {
      "application/vnd.jupyter.widget-state+json": {
        "d96a203ad95b42e1a16cb8b11b4a7872": {
          "model_module": "@jupyter-widgets/controls",
          "model_name": "HBoxModel",
          "model_module_version": "1.5.0",
          "state": {
            "_view_name": "HBoxView",
            "_dom_classes": [],
            "_model_name": "HBoxModel",
            "_view_module": "@jupyter-widgets/controls",
            "_model_module_version": "1.5.0",
            "_view_count": null,
            "_view_module_version": "1.5.0",
            "box_style": "",
            "layout": "IPY_MODEL_0f06c8cbf50242a88ad4da9436f3c509",
            "_model_module": "@jupyter-widgets/controls",
            "children": [
              "IPY_MODEL_07cca926a3c44fec9898ed1a91fb7154",
              "IPY_MODEL_abe9b1fcaa064c46b4ab85cba84bd6ab"
            ]
          }
        },
        "0f06c8cbf50242a88ad4da9436f3c509": {
          "model_module": "@jupyter-widgets/base",
          "model_name": "LayoutModel",
          "model_module_version": "1.2.0",
          "state": {
            "_view_name": "LayoutView",
            "grid_template_rows": null,
            "right": null,
            "justify_content": null,
            "_view_module": "@jupyter-widgets/base",
            "overflow": null,
            "_model_module_version": "1.2.0",
            "_view_count": null,
            "flex_flow": null,
            "width": null,
            "min_width": null,
            "border": null,
            "align_items": null,
            "bottom": null,
            "_model_module": "@jupyter-widgets/base",
            "top": null,
            "grid_column": null,
            "overflow_y": null,
            "overflow_x": null,
            "grid_auto_flow": null,
            "grid_area": null,
            "grid_template_columns": null,
            "flex": null,
            "_model_name": "LayoutModel",
            "justify_items": null,
            "grid_row": null,
            "max_height": null,
            "align_content": null,
            "visibility": null,
            "align_self": null,
            "height": null,
            "min_height": null,
            "padding": null,
            "grid_auto_rows": null,
            "grid_gap": null,
            "max_width": null,
            "order": null,
            "_view_module_version": "1.2.0",
            "grid_template_areas": null,
            "object_position": null,
            "object_fit": null,
            "grid_auto_columns": null,
            "margin": null,
            "display": null,
            "left": null
          }
        },
        "07cca926a3c44fec9898ed1a91fb7154": {
          "model_module": "@jupyter-widgets/controls",
          "model_name": "FloatProgressModel",
          "model_module_version": "1.5.0",
          "state": {
            "_view_name": "ProgressView",
            "style": "IPY_MODEL_256b2482924b42078a205c2878c99474",
            "_dom_classes": [],
            "description": "",
            "_model_name": "FloatProgressModel",
            "bar_style": "success",
            "max": 9912422,
            "_view_module": "@jupyter-widgets/controls",
            "_model_module_version": "1.5.0",
            "value": 9912422,
            "_view_count": null,
            "_view_module_version": "1.5.0",
            "orientation": "horizontal",
            "min": 0,
            "description_tooltip": null,
            "_model_module": "@jupyter-widgets/controls",
            "layout": "IPY_MODEL_c3c89253b0a24826b3efec25da09b56f"
          }
        },
        "abe9b1fcaa064c46b4ab85cba84bd6ab": {
          "model_module": "@jupyter-widgets/controls",
          "model_name": "HTMLModel",
          "model_module_version": "1.5.0",
          "state": {
            "_view_name": "HTMLView",
            "style": "IPY_MODEL_40a5575c58764a4b9f8a2dc10bd112d4",
            "_dom_classes": [],
            "description": "",
            "_model_name": "HTMLModel",
            "placeholder": "​",
            "_view_module": "@jupyter-widgets/controls",
            "_model_module_version": "1.5.0",
            "value": " 9913344/? [03:54&lt;00:00, 42294.76it/s]",
            "_view_count": null,
            "_view_module_version": "1.5.0",
            "description_tooltip": null,
            "_model_module": "@jupyter-widgets/controls",
            "layout": "IPY_MODEL_b54694b79a364494be9714bcd6f409a8"
          }
        },
        "256b2482924b42078a205c2878c99474": {
          "model_module": "@jupyter-widgets/controls",
          "model_name": "ProgressStyleModel",
          "model_module_version": "1.5.0",
          "state": {
            "_view_name": "StyleView",
            "_model_name": "ProgressStyleModel",
            "description_width": "initial",
            "_view_module": "@jupyter-widgets/base",
            "_model_module_version": "1.5.0",
            "_view_count": null,
            "_view_module_version": "1.2.0",
            "bar_color": null,
            "_model_module": "@jupyter-widgets/controls"
          }
        },
        "c3c89253b0a24826b3efec25da09b56f": {
          "model_module": "@jupyter-widgets/base",
          "model_name": "LayoutModel",
          "model_module_version": "1.2.0",
          "state": {
            "_view_name": "LayoutView",
            "grid_template_rows": null,
            "right": null,
            "justify_content": null,
            "_view_module": "@jupyter-widgets/base",
            "overflow": null,
            "_model_module_version": "1.2.0",
            "_view_count": null,
            "flex_flow": null,
            "width": null,
            "min_width": null,
            "border": null,
            "align_items": null,
            "bottom": null,
            "_model_module": "@jupyter-widgets/base",
            "top": null,
            "grid_column": null,
            "overflow_y": null,
            "overflow_x": null,
            "grid_auto_flow": null,
            "grid_area": null,
            "grid_template_columns": null,
            "flex": null,
            "_model_name": "LayoutModel",
            "justify_items": null,
            "grid_row": null,
            "max_height": null,
            "align_content": null,
            "visibility": null,
            "align_self": null,
            "height": null,
            "min_height": null,
            "padding": null,
            "grid_auto_rows": null,
            "grid_gap": null,
            "max_width": null,
            "order": null,
            "_view_module_version": "1.2.0",
            "grid_template_areas": null,
            "object_position": null,
            "object_fit": null,
            "grid_auto_columns": null,
            "margin": null,
            "display": null,
            "left": null
          }
        },
        "40a5575c58764a4b9f8a2dc10bd112d4": {
          "model_module": "@jupyter-widgets/controls",
          "model_name": "DescriptionStyleModel",
          "model_module_version": "1.5.0",
          "state": {
            "_view_name": "StyleView",
            "_model_name": "DescriptionStyleModel",
            "description_width": "",
            "_view_module": "@jupyter-widgets/base",
            "_model_module_version": "1.5.0",
            "_view_count": null,
            "_view_module_version": "1.2.0",
            "_model_module": "@jupyter-widgets/controls"
          }
        },
        "b54694b79a364494be9714bcd6f409a8": {
          "model_module": "@jupyter-widgets/base",
          "model_name": "LayoutModel",
          "model_module_version": "1.2.0",
          "state": {
            "_view_name": "LayoutView",
            "grid_template_rows": null,
            "right": null,
            "justify_content": null,
            "_view_module": "@jupyter-widgets/base",
            "overflow": null,
            "_model_module_version": "1.2.0",
            "_view_count": null,
            "flex_flow": null,
            "width": null,
            "min_width": null,
            "border": null,
            "align_items": null,
            "bottom": null,
            "_model_module": "@jupyter-widgets/base",
            "top": null,
            "grid_column": null,
            "overflow_y": null,
            "overflow_x": null,
            "grid_auto_flow": null,
            "grid_area": null,
            "grid_template_columns": null,
            "flex": null,
            "_model_name": "LayoutModel",
            "justify_items": null,
            "grid_row": null,
            "max_height": null,
            "align_content": null,
            "visibility": null,
            "align_self": null,
            "height": null,
            "min_height": null,
            "padding": null,
            "grid_auto_rows": null,
            "grid_gap": null,
            "max_width": null,
            "order": null,
            "_view_module_version": "1.2.0",
            "grid_template_areas": null,
            "object_position": null,
            "object_fit": null,
            "grid_auto_columns": null,
            "margin": null,
            "display": null,
            "left": null
          }
        },
        "34d1790a85914db49d27b02a5c9e90d9": {
          "model_module": "@jupyter-widgets/controls",
          "model_name": "HBoxModel",
          "model_module_version": "1.5.0",
          "state": {
            "_view_name": "HBoxView",
            "_dom_classes": [],
            "_model_name": "HBoxModel",
            "_view_module": "@jupyter-widgets/controls",
            "_model_module_version": "1.5.0",
            "_view_count": null,
            "_view_module_version": "1.5.0",
            "box_style": "",
            "layout": "IPY_MODEL_2255e9ec88064db58feb522911830678",
            "_model_module": "@jupyter-widgets/controls",
            "children": [
              "IPY_MODEL_f83b2a7da73a474e90a06b35d848a76b",
              "IPY_MODEL_53af1a1fb4b64cf5890684e8b301fea9"
            ]
          }
        },
        "2255e9ec88064db58feb522911830678": {
          "model_module": "@jupyter-widgets/base",
          "model_name": "LayoutModel",
          "model_module_version": "1.2.0",
          "state": {
            "_view_name": "LayoutView",
            "grid_template_rows": null,
            "right": null,
            "justify_content": null,
            "_view_module": "@jupyter-widgets/base",
            "overflow": null,
            "_model_module_version": "1.2.0",
            "_view_count": null,
            "flex_flow": null,
            "width": null,
            "min_width": null,
            "border": null,
            "align_items": null,
            "bottom": null,
            "_model_module": "@jupyter-widgets/base",
            "top": null,
            "grid_column": null,
            "overflow_y": null,
            "overflow_x": null,
            "grid_auto_flow": null,
            "grid_area": null,
            "grid_template_columns": null,
            "flex": null,
            "_model_name": "LayoutModel",
            "justify_items": null,
            "grid_row": null,
            "max_height": null,
            "align_content": null,
            "visibility": null,
            "align_self": null,
            "height": null,
            "min_height": null,
            "padding": null,
            "grid_auto_rows": null,
            "grid_gap": null,
            "max_width": null,
            "order": null,
            "_view_module_version": "1.2.0",
            "grid_template_areas": null,
            "object_position": null,
            "object_fit": null,
            "grid_auto_columns": null,
            "margin": null,
            "display": null,
            "left": null
          }
        },
        "f83b2a7da73a474e90a06b35d848a76b": {
          "model_module": "@jupyter-widgets/controls",
          "model_name": "FloatProgressModel",
          "model_module_version": "1.5.0",
          "state": {
            "_view_name": "ProgressView",
            "style": "IPY_MODEL_605e6223a4ef4a6eb6a434dd0c3aa641",
            "_dom_classes": [],
            "description": "",
            "_model_name": "FloatProgressModel",
            "bar_style": "success",
            "max": 28881,
            "_view_module": "@jupyter-widgets/controls",
            "_model_module_version": "1.5.0",
            "value": 28881,
            "_view_count": null,
            "_view_module_version": "1.5.0",
            "orientation": "horizontal",
            "min": 0,
            "description_tooltip": null,
            "_model_module": "@jupyter-widgets/controls",
            "layout": "IPY_MODEL_f7604f92cfc140d880dcca8d68dfea7a"
          }
        },
        "53af1a1fb4b64cf5890684e8b301fea9": {
          "model_module": "@jupyter-widgets/controls",
          "model_name": "HTMLModel",
          "model_module_version": "1.5.0",
          "state": {
            "_view_name": "HTMLView",
            "style": "IPY_MODEL_f86cfbb8b99942eeb6ac8f5789b3950d",
            "_dom_classes": [],
            "description": "",
            "_model_name": "HTMLModel",
            "placeholder": "​",
            "_view_module": "@jupyter-widgets/controls",
            "_model_module_version": "1.5.0",
            "value": " 29696/? [00:00&lt;00:00, 61181.51it/s]",
            "_view_count": null,
            "_view_module_version": "1.5.0",
            "description_tooltip": null,
            "_model_module": "@jupyter-widgets/controls",
            "layout": "IPY_MODEL_8ec845b9b3a045f79e70eb1e782fc366"
          }
        },
        "605e6223a4ef4a6eb6a434dd0c3aa641": {
          "model_module": "@jupyter-widgets/controls",
          "model_name": "ProgressStyleModel",
          "model_module_version": "1.5.0",
          "state": {
            "_view_name": "StyleView",
            "_model_name": "ProgressStyleModel",
            "description_width": "initial",
            "_view_module": "@jupyter-widgets/base",
            "_model_module_version": "1.5.0",
            "_view_count": null,
            "_view_module_version": "1.2.0",
            "bar_color": null,
            "_model_module": "@jupyter-widgets/controls"
          }
        },
        "f7604f92cfc140d880dcca8d68dfea7a": {
          "model_module": "@jupyter-widgets/base",
          "model_name": "LayoutModel",
          "model_module_version": "1.2.0",
          "state": {
            "_view_name": "LayoutView",
            "grid_template_rows": null,
            "right": null,
            "justify_content": null,
            "_view_module": "@jupyter-widgets/base",
            "overflow": null,
            "_model_module_version": "1.2.0",
            "_view_count": null,
            "flex_flow": null,
            "width": null,
            "min_width": null,
            "border": null,
            "align_items": null,
            "bottom": null,
            "_model_module": "@jupyter-widgets/base",
            "top": null,
            "grid_column": null,
            "overflow_y": null,
            "overflow_x": null,
            "grid_auto_flow": null,
            "grid_area": null,
            "grid_template_columns": null,
            "flex": null,
            "_model_name": "LayoutModel",
            "justify_items": null,
            "grid_row": null,
            "max_height": null,
            "align_content": null,
            "visibility": null,
            "align_self": null,
            "height": null,
            "min_height": null,
            "padding": null,
            "grid_auto_rows": null,
            "grid_gap": null,
            "max_width": null,
            "order": null,
            "_view_module_version": "1.2.0",
            "grid_template_areas": null,
            "object_position": null,
            "object_fit": null,
            "grid_auto_columns": null,
            "margin": null,
            "display": null,
            "left": null
          }
        },
        "f86cfbb8b99942eeb6ac8f5789b3950d": {
          "model_module": "@jupyter-widgets/controls",
          "model_name": "DescriptionStyleModel",
          "model_module_version": "1.5.0",
          "state": {
            "_view_name": "StyleView",
            "_model_name": "DescriptionStyleModel",
            "description_width": "",
            "_view_module": "@jupyter-widgets/base",
            "_model_module_version": "1.5.0",
            "_view_count": null,
            "_view_module_version": "1.2.0",
            "_model_module": "@jupyter-widgets/controls"
          }
        },
        "8ec845b9b3a045f79e70eb1e782fc366": {
          "model_module": "@jupyter-widgets/base",
          "model_name": "LayoutModel",
          "model_module_version": "1.2.0",
          "state": {
            "_view_name": "LayoutView",
            "grid_template_rows": null,
            "right": null,
            "justify_content": null,
            "_view_module": "@jupyter-widgets/base",
            "overflow": null,
            "_model_module_version": "1.2.0",
            "_view_count": null,
            "flex_flow": null,
            "width": null,
            "min_width": null,
            "border": null,
            "align_items": null,
            "bottom": null,
            "_model_module": "@jupyter-widgets/base",
            "top": null,
            "grid_column": null,
            "overflow_y": null,
            "overflow_x": null,
            "grid_auto_flow": null,
            "grid_area": null,
            "grid_template_columns": null,
            "flex": null,
            "_model_name": "LayoutModel",
            "justify_items": null,
            "grid_row": null,
            "max_height": null,
            "align_content": null,
            "visibility": null,
            "align_self": null,
            "height": null,
            "min_height": null,
            "padding": null,
            "grid_auto_rows": null,
            "grid_gap": null,
            "max_width": null,
            "order": null,
            "_view_module_version": "1.2.0",
            "grid_template_areas": null,
            "object_position": null,
            "object_fit": null,
            "grid_auto_columns": null,
            "margin": null,
            "display": null,
            "left": null
          }
        },
        "34569fa2aeb24e30808c779be6f6bc10": {
          "model_module": "@jupyter-widgets/controls",
          "model_name": "HBoxModel",
          "model_module_version": "1.5.0",
          "state": {
            "_view_name": "HBoxView",
            "_dom_classes": [],
            "_model_name": "HBoxModel",
            "_view_module": "@jupyter-widgets/controls",
            "_model_module_version": "1.5.0",
            "_view_count": null,
            "_view_module_version": "1.5.0",
            "box_style": "",
            "layout": "IPY_MODEL_b2f0c34caed44e1288b8de9cddd305d4",
            "_model_module": "@jupyter-widgets/controls",
            "children": [
              "IPY_MODEL_d8925d962bcc4d04a96b17d64feab8a2",
              "IPY_MODEL_3ba2066caf274d73a17fb12bb6699d82"
            ]
          }
        },
        "b2f0c34caed44e1288b8de9cddd305d4": {
          "model_module": "@jupyter-widgets/base",
          "model_name": "LayoutModel",
          "model_module_version": "1.2.0",
          "state": {
            "_view_name": "LayoutView",
            "grid_template_rows": null,
            "right": null,
            "justify_content": null,
            "_view_module": "@jupyter-widgets/base",
            "overflow": null,
            "_model_module_version": "1.2.0",
            "_view_count": null,
            "flex_flow": null,
            "width": null,
            "min_width": null,
            "border": null,
            "align_items": null,
            "bottom": null,
            "_model_module": "@jupyter-widgets/base",
            "top": null,
            "grid_column": null,
            "overflow_y": null,
            "overflow_x": null,
            "grid_auto_flow": null,
            "grid_area": null,
            "grid_template_columns": null,
            "flex": null,
            "_model_name": "LayoutModel",
            "justify_items": null,
            "grid_row": null,
            "max_height": null,
            "align_content": null,
            "visibility": null,
            "align_self": null,
            "height": null,
            "min_height": null,
            "padding": null,
            "grid_auto_rows": null,
            "grid_gap": null,
            "max_width": null,
            "order": null,
            "_view_module_version": "1.2.0",
            "grid_template_areas": null,
            "object_position": null,
            "object_fit": null,
            "grid_auto_columns": null,
            "margin": null,
            "display": null,
            "left": null
          }
        },
        "d8925d962bcc4d04a96b17d64feab8a2": {
          "model_module": "@jupyter-widgets/controls",
          "model_name": "FloatProgressModel",
          "model_module_version": "1.5.0",
          "state": {
            "_view_name": "ProgressView",
            "style": "IPY_MODEL_26c24d89ea12454bbea41d7d58a0b3b4",
            "_dom_classes": [],
            "description": "",
            "_model_name": "FloatProgressModel",
            "bar_style": "success",
            "max": 1648877,
            "_view_module": "@jupyter-widgets/controls",
            "_model_module_version": "1.5.0",
            "value": 1648877,
            "_view_count": null,
            "_view_module_version": "1.5.0",
            "orientation": "horizontal",
            "min": 0,
            "description_tooltip": null,
            "_model_module": "@jupyter-widgets/controls",
            "layout": "IPY_MODEL_e75b8a03bf79491d843763ac0a7e7922"
          }
        },
        "3ba2066caf274d73a17fb12bb6699d82": {
          "model_module": "@jupyter-widgets/controls",
          "model_name": "HTMLModel",
          "model_module_version": "1.5.0",
          "state": {
            "_view_name": "HTMLView",
            "style": "IPY_MODEL_fdab810dcca74f148b8faadccccab73c",
            "_dom_classes": [],
            "description": "",
            "_model_name": "HTMLModel",
            "placeholder": "​",
            "_view_module": "@jupyter-widgets/controls",
            "_model_module_version": "1.5.0",
            "value": " 1649664/? [01:11&lt;00:00, 22927.29it/s]",
            "_view_count": null,
            "_view_module_version": "1.5.0",
            "description_tooltip": null,
            "_model_module": "@jupyter-widgets/controls",
            "layout": "IPY_MODEL_2d110280d8ae44ab9f7828f63bbffe16"
          }
        },
        "26c24d89ea12454bbea41d7d58a0b3b4": {
          "model_module": "@jupyter-widgets/controls",
          "model_name": "ProgressStyleModel",
          "model_module_version": "1.5.0",
          "state": {
            "_view_name": "StyleView",
            "_model_name": "ProgressStyleModel",
            "description_width": "initial",
            "_view_module": "@jupyter-widgets/base",
            "_model_module_version": "1.5.0",
            "_view_count": null,
            "_view_module_version": "1.2.0",
            "bar_color": null,
            "_model_module": "@jupyter-widgets/controls"
          }
        },
        "e75b8a03bf79491d843763ac0a7e7922": {
          "model_module": "@jupyter-widgets/base",
          "model_name": "LayoutModel",
          "model_module_version": "1.2.0",
          "state": {
            "_view_name": "LayoutView",
            "grid_template_rows": null,
            "right": null,
            "justify_content": null,
            "_view_module": "@jupyter-widgets/base",
            "overflow": null,
            "_model_module_version": "1.2.0",
            "_view_count": null,
            "flex_flow": null,
            "width": null,
            "min_width": null,
            "border": null,
            "align_items": null,
            "bottom": null,
            "_model_module": "@jupyter-widgets/base",
            "top": null,
            "grid_column": null,
            "overflow_y": null,
            "overflow_x": null,
            "grid_auto_flow": null,
            "grid_area": null,
            "grid_template_columns": null,
            "flex": null,
            "_model_name": "LayoutModel",
            "justify_items": null,
            "grid_row": null,
            "max_height": null,
            "align_content": null,
            "visibility": null,
            "align_self": null,
            "height": null,
            "min_height": null,
            "padding": null,
            "grid_auto_rows": null,
            "grid_gap": null,
            "max_width": null,
            "order": null,
            "_view_module_version": "1.2.0",
            "grid_template_areas": null,
            "object_position": null,
            "object_fit": null,
            "grid_auto_columns": null,
            "margin": null,
            "display": null,
            "left": null
          }
        },
        "fdab810dcca74f148b8faadccccab73c": {
          "model_module": "@jupyter-widgets/controls",
          "model_name": "DescriptionStyleModel",
          "model_module_version": "1.5.0",
          "state": {
            "_view_name": "StyleView",
            "_model_name": "DescriptionStyleModel",
            "description_width": "",
            "_view_module": "@jupyter-widgets/base",
            "_model_module_version": "1.5.0",
            "_view_count": null,
            "_view_module_version": "1.2.0",
            "_model_module": "@jupyter-widgets/controls"
          }
        },
        "2d110280d8ae44ab9f7828f63bbffe16": {
          "model_module": "@jupyter-widgets/base",
          "model_name": "LayoutModel",
          "model_module_version": "1.2.0",
          "state": {
            "_view_name": "LayoutView",
            "grid_template_rows": null,
            "right": null,
            "justify_content": null,
            "_view_module": "@jupyter-widgets/base",
            "overflow": null,
            "_model_module_version": "1.2.0",
            "_view_count": null,
            "flex_flow": null,
            "width": null,
            "min_width": null,
            "border": null,
            "align_items": null,
            "bottom": null,
            "_model_module": "@jupyter-widgets/base",
            "top": null,
            "grid_column": null,
            "overflow_y": null,
            "overflow_x": null,
            "grid_auto_flow": null,
            "grid_area": null,
            "grid_template_columns": null,
            "flex": null,
            "_model_name": "LayoutModel",
            "justify_items": null,
            "grid_row": null,
            "max_height": null,
            "align_content": null,
            "visibility": null,
            "align_self": null,
            "height": null,
            "min_height": null,
            "padding": null,
            "grid_auto_rows": null,
            "grid_gap": null,
            "max_width": null,
            "order": null,
            "_view_module_version": "1.2.0",
            "grid_template_areas": null,
            "object_position": null,
            "object_fit": null,
            "grid_auto_columns": null,
            "margin": null,
            "display": null,
            "left": null
          }
        },
        "c92a26acfb814447b96e873c7a5d610b": {
          "model_module": "@jupyter-widgets/controls",
          "model_name": "HBoxModel",
          "model_module_version": "1.5.0",
          "state": {
            "_view_name": "HBoxView",
            "_dom_classes": [],
            "_model_name": "HBoxModel",
            "_view_module": "@jupyter-widgets/controls",
            "_model_module_version": "1.5.0",
            "_view_count": null,
            "_view_module_version": "1.5.0",
            "box_style": "",
            "layout": "IPY_MODEL_bf150f649435432697cfda6ce24cc290",
            "_model_module": "@jupyter-widgets/controls",
            "children": [
              "IPY_MODEL_15ef158fceb549938f5f0ecf5782b6f0",
              "IPY_MODEL_90de6ee1b9864953bbefbc5b4a435dfc"
            ]
          }
        },
        "bf150f649435432697cfda6ce24cc290": {
          "model_module": "@jupyter-widgets/base",
          "model_name": "LayoutModel",
          "model_module_version": "1.2.0",
          "state": {
            "_view_name": "LayoutView",
            "grid_template_rows": null,
            "right": null,
            "justify_content": null,
            "_view_module": "@jupyter-widgets/base",
            "overflow": null,
            "_model_module_version": "1.2.0",
            "_view_count": null,
            "flex_flow": null,
            "width": null,
            "min_width": null,
            "border": null,
            "align_items": null,
            "bottom": null,
            "_model_module": "@jupyter-widgets/base",
            "top": null,
            "grid_column": null,
            "overflow_y": null,
            "overflow_x": null,
            "grid_auto_flow": null,
            "grid_area": null,
            "grid_template_columns": null,
            "flex": null,
            "_model_name": "LayoutModel",
            "justify_items": null,
            "grid_row": null,
            "max_height": null,
            "align_content": null,
            "visibility": null,
            "align_self": null,
            "height": null,
            "min_height": null,
            "padding": null,
            "grid_auto_rows": null,
            "grid_gap": null,
            "max_width": null,
            "order": null,
            "_view_module_version": "1.2.0",
            "grid_template_areas": null,
            "object_position": null,
            "object_fit": null,
            "grid_auto_columns": null,
            "margin": null,
            "display": null,
            "left": null
          }
        },
        "15ef158fceb549938f5f0ecf5782b6f0": {
          "model_module": "@jupyter-widgets/controls",
          "model_name": "FloatProgressModel",
          "model_module_version": "1.5.0",
          "state": {
            "_view_name": "ProgressView",
            "style": "IPY_MODEL_8b9ba8bfca3146d0905dbac2b3305301",
            "_dom_classes": [],
            "description": "",
            "_model_name": "FloatProgressModel",
            "bar_style": "success",
            "max": 4542,
            "_view_module": "@jupyter-widgets/controls",
            "_model_module_version": "1.5.0",
            "value": 4542,
            "_view_count": null,
            "_view_module_version": "1.5.0",
            "orientation": "horizontal",
            "min": 0,
            "description_tooltip": null,
            "_model_module": "@jupyter-widgets/controls",
            "layout": "IPY_MODEL_0d0d5322817048b296025d5a0e2b44d2"
          }
        },
        "90de6ee1b9864953bbefbc5b4a435dfc": {
          "model_module": "@jupyter-widgets/controls",
          "model_name": "HTMLModel",
          "model_module_version": "1.5.0",
          "state": {
            "_view_name": "HTMLView",
            "style": "IPY_MODEL_6beff1346075464386b213b76acead85",
            "_dom_classes": [],
            "description": "",
            "_model_name": "HTMLModel",
            "placeholder": "​",
            "_view_module": "@jupyter-widgets/controls",
            "_model_module_version": "1.5.0",
            "value": " 5120/? [00:01&lt;00:00, 3082.49it/s]",
            "_view_count": null,
            "_view_module_version": "1.5.0",
            "description_tooltip": null,
            "_model_module": "@jupyter-widgets/controls",
            "layout": "IPY_MODEL_7142159917454655a5e9a3150f08e3db"
          }
        },
        "8b9ba8bfca3146d0905dbac2b3305301": {
          "model_module": "@jupyter-widgets/controls",
          "model_name": "ProgressStyleModel",
          "model_module_version": "1.5.0",
          "state": {
            "_view_name": "StyleView",
            "_model_name": "ProgressStyleModel",
            "description_width": "initial",
            "_view_module": "@jupyter-widgets/base",
            "_model_module_version": "1.5.0",
            "_view_count": null,
            "_view_module_version": "1.2.0",
            "bar_color": null,
            "_model_module": "@jupyter-widgets/controls"
          }
        },
        "0d0d5322817048b296025d5a0e2b44d2": {
          "model_module": "@jupyter-widgets/base",
          "model_name": "LayoutModel",
          "model_module_version": "1.2.0",
          "state": {
            "_view_name": "LayoutView",
            "grid_template_rows": null,
            "right": null,
            "justify_content": null,
            "_view_module": "@jupyter-widgets/base",
            "overflow": null,
            "_model_module_version": "1.2.0",
            "_view_count": null,
            "flex_flow": null,
            "width": null,
            "min_width": null,
            "border": null,
            "align_items": null,
            "bottom": null,
            "_model_module": "@jupyter-widgets/base",
            "top": null,
            "grid_column": null,
            "overflow_y": null,
            "overflow_x": null,
            "grid_auto_flow": null,
            "grid_area": null,
            "grid_template_columns": null,
            "flex": null,
            "_model_name": "LayoutModel",
            "justify_items": null,
            "grid_row": null,
            "max_height": null,
            "align_content": null,
            "visibility": null,
            "align_self": null,
            "height": null,
            "min_height": null,
            "padding": null,
            "grid_auto_rows": null,
            "grid_gap": null,
            "max_width": null,
            "order": null,
            "_view_module_version": "1.2.0",
            "grid_template_areas": null,
            "object_position": null,
            "object_fit": null,
            "grid_auto_columns": null,
            "margin": null,
            "display": null,
            "left": null
          }
        },
        "6beff1346075464386b213b76acead85": {
          "model_module": "@jupyter-widgets/controls",
          "model_name": "DescriptionStyleModel",
          "model_module_version": "1.5.0",
          "state": {
            "_view_name": "StyleView",
            "_model_name": "DescriptionStyleModel",
            "description_width": "",
            "_view_module": "@jupyter-widgets/base",
            "_model_module_version": "1.5.0",
            "_view_count": null,
            "_view_module_version": "1.2.0",
            "_model_module": "@jupyter-widgets/controls"
          }
        },
        "7142159917454655a5e9a3150f08e3db": {
          "model_module": "@jupyter-widgets/base",
          "model_name": "LayoutModel",
          "model_module_version": "1.2.0",
          "state": {
            "_view_name": "LayoutView",
            "grid_template_rows": null,
            "right": null,
            "justify_content": null,
            "_view_module": "@jupyter-widgets/base",
            "overflow": null,
            "_model_module_version": "1.2.0",
            "_view_count": null,
            "flex_flow": null,
            "width": null,
            "min_width": null,
            "border": null,
            "align_items": null,
            "bottom": null,
            "_model_module": "@jupyter-widgets/base",
            "top": null,
            "grid_column": null,
            "overflow_y": null,
            "overflow_x": null,
            "grid_auto_flow": null,
            "grid_area": null,
            "grid_template_columns": null,
            "flex": null,
            "_model_name": "LayoutModel",
            "justify_items": null,
            "grid_row": null,
            "max_height": null,
            "align_content": null,
            "visibility": null,
            "align_self": null,
            "height": null,
            "min_height": null,
            "padding": null,
            "grid_auto_rows": null,
            "grid_gap": null,
            "max_width": null,
            "order": null,
            "_view_module_version": "1.2.0",
            "grid_template_areas": null,
            "object_position": null,
            "object_fit": null,
            "grid_auto_columns": null,
            "margin": null,
            "display": null,
            "left": null
          }
        },
        "24c2acc19a794f498a7de466f4d1bcc9": {
          "model_module": "@jupyter-widgets/controls",
          "model_name": "HBoxModel",
          "model_module_version": "1.5.0",
          "state": {
            "_view_name": "HBoxView",
            "_dom_classes": [],
            "_model_name": "HBoxModel",
            "_view_module": "@jupyter-widgets/controls",
            "_model_module_version": "1.5.0",
            "_view_count": null,
            "_view_module_version": "1.5.0",
            "box_style": "",
            "layout": "IPY_MODEL_3c3d0f31b2e14da492ac439b0d8e73ca",
            "_model_module": "@jupyter-widgets/controls",
            "children": [
              "IPY_MODEL_e909199a703c43dcbc147f7be47eeb43",
              "IPY_MODEL_c8950444a960444389d6d5277aafef9e"
            ]
          }
        },
        "3c3d0f31b2e14da492ac439b0d8e73ca": {
          "model_module": "@jupyter-widgets/base",
          "model_name": "LayoutModel",
          "model_module_version": "1.2.0",
          "state": {
            "_view_name": "LayoutView",
            "grid_template_rows": null,
            "right": null,
            "justify_content": null,
            "_view_module": "@jupyter-widgets/base",
            "overflow": null,
            "_model_module_version": "1.2.0",
            "_view_count": null,
            "flex_flow": null,
            "width": null,
            "min_width": null,
            "border": null,
            "align_items": null,
            "bottom": null,
            "_model_module": "@jupyter-widgets/base",
            "top": null,
            "grid_column": null,
            "overflow_y": null,
            "overflow_x": null,
            "grid_auto_flow": null,
            "grid_area": null,
            "grid_template_columns": null,
            "flex": null,
            "_model_name": "LayoutModel",
            "justify_items": null,
            "grid_row": null,
            "max_height": null,
            "align_content": null,
            "visibility": null,
            "align_self": null,
            "height": null,
            "min_height": null,
            "padding": null,
            "grid_auto_rows": null,
            "grid_gap": null,
            "max_width": null,
            "order": null,
            "_view_module_version": "1.2.0",
            "grid_template_areas": null,
            "object_position": null,
            "object_fit": null,
            "grid_auto_columns": null,
            "margin": null,
            "display": null,
            "left": null
          }
        },
        "e909199a703c43dcbc147f7be47eeb43": {
          "model_module": "@jupyter-widgets/controls",
          "model_name": "FloatProgressModel",
          "model_module_version": "1.5.0",
          "state": {
            "_view_name": "ProgressView",
            "style": "IPY_MODEL_05b2d82c9076477bbcfcb5bc037d634c",
            "_dom_classes": [],
            "description": "",
            "_model_name": "FloatProgressModel",
            "bar_style": "success",
            "max": 170498071,
            "_view_module": "@jupyter-widgets/controls",
            "_model_module_version": "1.5.0",
            "value": 170498071,
            "_view_count": null,
            "_view_module_version": "1.5.0",
            "orientation": "horizontal",
            "min": 0,
            "description_tooltip": null,
            "_model_module": "@jupyter-widgets/controls",
            "layout": "IPY_MODEL_88c98936ae6e40bbafaf63299ec85f48"
          }
        },
        "c8950444a960444389d6d5277aafef9e": {
          "model_module": "@jupyter-widgets/controls",
          "model_name": "HTMLModel",
          "model_module_version": "1.5.0",
          "state": {
            "_view_name": "HTMLView",
            "style": "IPY_MODEL_5da565b9c1ec441ab60343cd571652e8",
            "_dom_classes": [],
            "description": "",
            "_model_name": "HTMLModel",
            "placeholder": "​",
            "_view_module": "@jupyter-widgets/controls",
            "_model_module_version": "1.5.0",
            "value": " 170499072/? [00:07&lt;00:00, 22364924.28it/s]",
            "_view_count": null,
            "_view_module_version": "1.5.0",
            "description_tooltip": null,
            "_model_module": "@jupyter-widgets/controls",
            "layout": "IPY_MODEL_bd167b0bac654f1885815a76a74aa10d"
          }
        },
        "05b2d82c9076477bbcfcb5bc037d634c": {
          "model_module": "@jupyter-widgets/controls",
          "model_name": "ProgressStyleModel",
          "model_module_version": "1.5.0",
          "state": {
            "_view_name": "StyleView",
            "_model_name": "ProgressStyleModel",
            "description_width": "initial",
            "_view_module": "@jupyter-widgets/base",
            "_model_module_version": "1.5.0",
            "_view_count": null,
            "_view_module_version": "1.2.0",
            "bar_color": null,
            "_model_module": "@jupyter-widgets/controls"
          }
        },
        "88c98936ae6e40bbafaf63299ec85f48": {
          "model_module": "@jupyter-widgets/base",
          "model_name": "LayoutModel",
          "model_module_version": "1.2.0",
          "state": {
            "_view_name": "LayoutView",
            "grid_template_rows": null,
            "right": null,
            "justify_content": null,
            "_view_module": "@jupyter-widgets/base",
            "overflow": null,
            "_model_module_version": "1.2.0",
            "_view_count": null,
            "flex_flow": null,
            "width": null,
            "min_width": null,
            "border": null,
            "align_items": null,
            "bottom": null,
            "_model_module": "@jupyter-widgets/base",
            "top": null,
            "grid_column": null,
            "overflow_y": null,
            "overflow_x": null,
            "grid_auto_flow": null,
            "grid_area": null,
            "grid_template_columns": null,
            "flex": null,
            "_model_name": "LayoutModel",
            "justify_items": null,
            "grid_row": null,
            "max_height": null,
            "align_content": null,
            "visibility": null,
            "align_self": null,
            "height": null,
            "min_height": null,
            "padding": null,
            "grid_auto_rows": null,
            "grid_gap": null,
            "max_width": null,
            "order": null,
            "_view_module_version": "1.2.0",
            "grid_template_areas": null,
            "object_position": null,
            "object_fit": null,
            "grid_auto_columns": null,
            "margin": null,
            "display": null,
            "left": null
          }
        },
        "5da565b9c1ec441ab60343cd571652e8": {
          "model_module": "@jupyter-widgets/controls",
          "model_name": "DescriptionStyleModel",
          "model_module_version": "1.5.0",
          "state": {
            "_view_name": "StyleView",
            "_model_name": "DescriptionStyleModel",
            "description_width": "",
            "_view_module": "@jupyter-widgets/base",
            "_model_module_version": "1.5.0",
            "_view_count": null,
            "_view_module_version": "1.2.0",
            "_model_module": "@jupyter-widgets/controls"
          }
        },
        "bd167b0bac654f1885815a76a74aa10d": {
          "model_module": "@jupyter-widgets/base",
          "model_name": "LayoutModel",
          "model_module_version": "1.2.0",
          "state": {
            "_view_name": "LayoutView",
            "grid_template_rows": null,
            "right": null,
            "justify_content": null,
            "_view_module": "@jupyter-widgets/base",
            "overflow": null,
            "_model_module_version": "1.2.0",
            "_view_count": null,
            "flex_flow": null,
            "width": null,
            "min_width": null,
            "border": null,
            "align_items": null,
            "bottom": null,
            "_model_module": "@jupyter-widgets/base",
            "top": null,
            "grid_column": null,
            "overflow_y": null,
            "overflow_x": null,
            "grid_auto_flow": null,
            "grid_area": null,
            "grid_template_columns": null,
            "flex": null,
            "_model_name": "LayoutModel",
            "justify_items": null,
            "grid_row": null,
            "max_height": null,
            "align_content": null,
            "visibility": null,
            "align_self": null,
            "height": null,
            "min_height": null,
            "padding": null,
            "grid_auto_rows": null,
            "grid_gap": null,
            "max_width": null,
            "order": null,
            "_view_module_version": "1.2.0",
            "grid_template_areas": null,
            "object_position": null,
            "object_fit": null,
            "grid_auto_columns": null,
            "margin": null,
            "display": null,
            "left": null
          }
        }
      }
    }
  },
  "cells": [
    {
      "cell_type": "markdown",
      "metadata": {
        "id": "gBmYjQHZ35m5"
      },
      "source": [
        "### Importing the required packages"
      ]
    },
    {
      "cell_type": "code",
      "metadata": {
        "id": "MP39MsR-kje0"
      },
      "source": [
        "import torch\n",
        "import torch.nn as nn\n",
        "import torch.optim as optim\n",
        "import torch.nn.functional as F\n",
        "import numpy as np\n",
        "import torchvision\n",
        "from torchvision import *\n",
        "from torch.utils.data import Dataset, DataLoader\n",
        "import torchvision.transforms as transforms\n",
        "import matplotlib.pyplot as plt\n",
        "from prettytable import PrettyTable"
      ],
      "execution_count": 50,
      "outputs": []
    },
    {
      "cell_type": "code",
      "metadata": {
        "id": "1Mk6ieqTlNDN"
      },
      "source": [
        "# deciding the transformes to apply to the CIFAR dataset\n",
        "transform = transforms.Compose( [transforms.ToTensor(),\n",
        "                                transforms.Normalize((0.5, 0.5, 0.5), (0.5, 0.5, 0.5))])"
      ],
      "execution_count": 2,
      "outputs": []
    },
    {
      "cell_type": "markdown",
      "metadata": {
        "id": "u9xZRdvP3WJq"
      },
      "source": [
        "### Downloading and making dataloaders for MNIST dataset"
      ]
    },
    {
      "cell_type": "code",
      "metadata": {
        "colab": {
          "base_uri": "https://localhost:8080/",
          "height": 534,
          "referenced_widgets": [
            "d96a203ad95b42e1a16cb8b11b4a7872",
            "0f06c8cbf50242a88ad4da9436f3c509",
            "07cca926a3c44fec9898ed1a91fb7154",
            "abe9b1fcaa064c46b4ab85cba84bd6ab",
            "256b2482924b42078a205c2878c99474",
            "c3c89253b0a24826b3efec25da09b56f",
            "40a5575c58764a4b9f8a2dc10bd112d4",
            "b54694b79a364494be9714bcd6f409a8",
            "34d1790a85914db49d27b02a5c9e90d9",
            "2255e9ec88064db58feb522911830678",
            "f83b2a7da73a474e90a06b35d848a76b",
            "53af1a1fb4b64cf5890684e8b301fea9",
            "605e6223a4ef4a6eb6a434dd0c3aa641",
            "f7604f92cfc140d880dcca8d68dfea7a",
            "f86cfbb8b99942eeb6ac8f5789b3950d",
            "8ec845b9b3a045f79e70eb1e782fc366",
            "34569fa2aeb24e30808c779be6f6bc10",
            "b2f0c34caed44e1288b8de9cddd305d4",
            "d8925d962bcc4d04a96b17d64feab8a2",
            "3ba2066caf274d73a17fb12bb6699d82",
            "26c24d89ea12454bbea41d7d58a0b3b4",
            "e75b8a03bf79491d843763ac0a7e7922",
            "fdab810dcca74f148b8faadccccab73c",
            "2d110280d8ae44ab9f7828f63bbffe16",
            "c92a26acfb814447b96e873c7a5d610b",
            "bf150f649435432697cfda6ce24cc290",
            "15ef158fceb549938f5f0ecf5782b6f0",
            "90de6ee1b9864953bbefbc5b4a435dfc",
            "8b9ba8bfca3146d0905dbac2b3305301",
            "0d0d5322817048b296025d5a0e2b44d2",
            "6beff1346075464386b213b76acead85",
            "7142159917454655a5e9a3150f08e3db"
          ]
        },
        "id": "PkpDWi9a3Utq",
        "outputId": "fc24005e-dd29-4987-f098-6bc8cc29e49a"
      },
      "source": [
        "train_loader_mnist = torch.utils.data.DataLoader(\n",
        "  torchvision.datasets.MNIST('/files/', train=True, download=True,\n",
        "                             transform=torchvision.transforms.Compose([\n",
        "                               torchvision.transforms.ToTensor(),\n",
        "                               torchvision.transforms.Normalize(\n",
        "                                 (0.1307,), (0.3081,))\n",
        "                             ])),\n",
        "  batch_size=128, shuffle=True)\n",
        "\n",
        "test_loader_mnist = torch.utils.data.DataLoader(\n",
        "  torchvision.datasets.MNIST('/files/', train=False, download=True,\n",
        "                             transform=torchvision.transforms.Compose([\n",
        "                               torchvision.transforms.ToTensor(),\n",
        "                               torchvision.transforms.Normalize(\n",
        "                                 (0.1307,), (0.3081,))\n",
        "                             ])),\n",
        "  batch_size=128, shuffle=True)"
      ],
      "execution_count": 4,
      "outputs": [
        {
          "output_type": "stream",
          "text": [
            "Downloading http://yann.lecun.com/exdb/mnist/train-images-idx3-ubyte.gz\n",
            "Downloading http://yann.lecun.com/exdb/mnist/train-images-idx3-ubyte.gz to /files/MNIST/raw/train-images-idx3-ubyte.gz\n"
          ],
          "name": "stdout"
        },
        {
          "output_type": "display_data",
          "data": {
            "application/vnd.jupyter.widget-view+json": {
              "model_id": "d96a203ad95b42e1a16cb8b11b4a7872",
              "version_minor": 0,
              "version_major": 2
            },
            "text/plain": [
              "HBox(children=(FloatProgress(value=0.0, max=9912422.0), HTML(value='')))"
            ]
          },
          "metadata": {
            "tags": []
          }
        },
        {
          "output_type": "stream",
          "text": [
            "\n",
            "Extracting /files/MNIST/raw/train-images-idx3-ubyte.gz to /files/MNIST/raw\n",
            "\n",
            "Downloading http://yann.lecun.com/exdb/mnist/train-labels-idx1-ubyte.gz\n",
            "Downloading http://yann.lecun.com/exdb/mnist/train-labels-idx1-ubyte.gz to /files/MNIST/raw/train-labels-idx1-ubyte.gz\n"
          ],
          "name": "stdout"
        },
        {
          "output_type": "display_data",
          "data": {
            "application/vnd.jupyter.widget-view+json": {
              "model_id": "34d1790a85914db49d27b02a5c9e90d9",
              "version_minor": 0,
              "version_major": 2
            },
            "text/plain": [
              "HBox(children=(FloatProgress(value=0.0, max=28881.0), HTML(value='')))"
            ]
          },
          "metadata": {
            "tags": []
          }
        },
        {
          "output_type": "stream",
          "text": [
            "\n",
            "Extracting /files/MNIST/raw/train-labels-idx1-ubyte.gz to /files/MNIST/raw\n",
            "\n",
            "Downloading http://yann.lecun.com/exdb/mnist/t10k-images-idx3-ubyte.gz\n",
            "Downloading http://yann.lecun.com/exdb/mnist/t10k-images-idx3-ubyte.gz to /files/MNIST/raw/t10k-images-idx3-ubyte.gz\n"
          ],
          "name": "stdout"
        },
        {
          "output_type": "display_data",
          "data": {
            "application/vnd.jupyter.widget-view+json": {
              "model_id": "34569fa2aeb24e30808c779be6f6bc10",
              "version_minor": 0,
              "version_major": 2
            },
            "text/plain": [
              "HBox(children=(FloatProgress(value=0.0, max=1648877.0), HTML(value='')))"
            ]
          },
          "metadata": {
            "tags": []
          }
        },
        {
          "output_type": "stream",
          "text": [
            "\n",
            "Extracting /files/MNIST/raw/t10k-images-idx3-ubyte.gz to /files/MNIST/raw\n",
            "\n",
            "Downloading http://yann.lecun.com/exdb/mnist/t10k-labels-idx1-ubyte.gz\n",
            "Downloading http://yann.lecun.com/exdb/mnist/t10k-labels-idx1-ubyte.gz to /files/MNIST/raw/t10k-labels-idx1-ubyte.gz\n"
          ],
          "name": "stdout"
        },
        {
          "output_type": "display_data",
          "data": {
            "application/vnd.jupyter.widget-view+json": {
              "model_id": "c92a26acfb814447b96e873c7a5d610b",
              "version_minor": 0,
              "version_major": 2
            },
            "text/plain": [
              "HBox(children=(FloatProgress(value=0.0, max=4542.0), HTML(value='')))"
            ]
          },
          "metadata": {
            "tags": []
          }
        },
        {
          "output_type": "stream",
          "text": [
            "\n",
            "Extracting /files/MNIST/raw/t10k-labels-idx1-ubyte.gz to /files/MNIST/raw\n",
            "\n"
          ],
          "name": "stdout"
        },
        {
          "output_type": "stream",
          "text": [
            "/usr/local/lib/python3.7/dist-packages/torchvision/datasets/mnist.py:498: UserWarning: The given NumPy array is not writeable, and PyTorch does not support non-writeable tensors. This means you can write to the underlying (supposedly non-writeable) NumPy array using the tensor. You may want to copy the array to protect its data or make it writeable before converting it to a tensor. This type of warning will be suppressed for the rest of this program. (Triggered internally at  /pytorch/torch/csrc/utils/tensor_numpy.cpp:180.)\n",
            "  return torch.from_numpy(parsed.astype(m[2], copy=False)).view(*s)\n"
          ],
          "name": "stderr"
        }
      ]
    },
    {
      "cell_type": "markdown",
      "metadata": {
        "id": "O6L24zqB3qHC"
      },
      "source": [
        "### Downloading and making dataloaders for CIFAR-10 dataset"
      ]
    },
    {
      "cell_type": "code",
      "metadata": {
        "colab": {
          "base_uri": "https://localhost:8080/",
          "height": 116,
          "referenced_widgets": [
            "24c2acc19a794f498a7de466f4d1bcc9",
            "3c3d0f31b2e14da492ac439b0d8e73ca",
            "e909199a703c43dcbc147f7be47eeb43",
            "c8950444a960444389d6d5277aafef9e",
            "05b2d82c9076477bbcfcb5bc037d634c",
            "88c98936ae6e40bbafaf63299ec85f48",
            "5da565b9c1ec441ab60343cd571652e8",
            "bd167b0bac654f1885815a76a74aa10d"
          ]
        },
        "id": "1_st8xPfl4aw",
        "outputId": "7bd03e03-8bba-4318-a9e9-4cd667d63a29"
      },
      "source": [
        "\n",
        "batch_size = 32\n",
        " \n",
        "# Downloading the training set of CIFAR10 dataset, and getting a trainloader\n",
        "trainset    = torchvision.datasets.CIFAR10(root='./data', \n",
        "                                           train=True,\n",
        "                                           download=True, \n",
        "                                           transform=transform)\n",
        "trainloader_cifar = torch.utils.data.DataLoader(trainset, \n",
        "                                          batch_size=batch_size,\n",
        "                                          shuffle=True, \n",
        "                                          num_workers=2)\n",
        " \n",
        "# Downloading the test set of CIFAR10 dataset, and getting a testloader\n",
        "testset    = torchvision.datasets.CIFAR10(root='./data', \n",
        "                                          train=False,\n",
        "                                          download=True, \n",
        "                                          transform=transform)\n",
        "testloader_cifar = torch.utils.data.DataLoader(testset, \n",
        "                                         batch_size=batch_size,\n",
        "                                         shuffle=False, \n",
        "                                         num_workers=2)\n",
        "\n",
        "# specifying the classes\n",
        "classes = ('plane', 'car', 'bird', 'cat',\n",
        "           'deer', 'dog', 'frog', 'horse', \n",
        "           'ship', 'truck')"
      ],
      "execution_count": 5,
      "outputs": [
        {
          "output_type": "stream",
          "text": [
            "Downloading https://www.cs.toronto.edu/~kriz/cifar-10-python.tar.gz to ./data/cifar-10-python.tar.gz\n"
          ],
          "name": "stdout"
        },
        {
          "output_type": "display_data",
          "data": {
            "application/vnd.jupyter.widget-view+json": {
              "model_id": "24c2acc19a794f498a7de466f4d1bcc9",
              "version_minor": 0,
              "version_major": 2
            },
            "text/plain": [
              "HBox(children=(FloatProgress(value=0.0, max=170498071.0), HTML(value='')))"
            ]
          },
          "metadata": {
            "tags": []
          }
        },
        {
          "output_type": "stream",
          "text": [
            "\n",
            "Extracting ./data/cifar-10-python.tar.gz to ./data\n",
            "Files already downloaded and verified\n"
          ],
          "name": "stdout"
        }
      ]
    },
    {
      "cell_type": "markdown",
      "metadata": {
        "id": "or3a06xo9twA"
      },
      "source": [
        "### Building the model"
      ]
    },
    {
      "cell_type": "code",
      "metadata": {
        "id": "_WyNYnPeADBh"
      },
      "source": [
        "class Tokenizer(nn.Module):\n",
        "\n",
        "  def __init__(self, device, L):\n",
        "    super().__init__()\n",
        " \n",
        "    self.L = L\n",
        "\n",
        "    # Getting image features through layers of convolution\n",
        "    # convolutional Layer 1\n",
        "    self.conv1 = nn.Conv2d(in_channels=3, out_channels=16, kernel_size=3)\n",
        "    self.mxp1  = nn.MaxPool2d(kernel_size=2, stride=2)\n",
        "    \n",
        "    # convolutional Layer 2\n",
        "    self.conv2 = nn.Conv2d(in_channels=16, out_channels=64, kernel_size=1)\n",
        "    self.mxp2  = nn.MaxPool2d(kernel_size=2, stride=2)\n",
        "    \n",
        "    # convolutional Layer 3\n",
        "    self.conv3 = nn.Conv2d(in_channels=64, out_channels=128, kernel_size=3)\n",
        "    self.mxp3  = nn.MaxPool2d(kernel_size=2, stride=2)\n",
        "    \n",
        "    # convolutional Layer 4\n",
        "    self.conv4 = nn.Conv2d(in_channels=128, out_channels=256, kernel_size=1)\n",
        "    self.mxp4  = nn.MaxPool2d(kernel_size=2, stride=2)\n",
        "    \n",
        "    # convolutional Layer 5\n",
        "    self.conv5 = nn.Conv2d(in_channels=256, out_channels=512, kernel_size=3)\n",
        "    self.mxp5  = nn.MaxPool2d(kernel_size=2,  stride=2)\n",
        "    \n",
        "    # The fully connected layers to get tokens\n",
        "    self.fc1   = nn.Linear(512, L, bias=False)\n",
        "    \n",
        "  def forward(self, x):\n",
        "    \n",
        "      # x = [batch, channels, heigth, width]\n",
        "      x = self.conv1(x)\n",
        "      x = self.mxp1(x)\n",
        "      x = F.relu(x)\n",
        " \n",
        "      x = self.conv2(x)\n",
        "      # x = self.mxp2(x)\n",
        "      x = F.relu(x)\n",
        " \n",
        "      x = self.conv3(x)\n",
        "      x = self.mxp3(x)\n",
        "      x = F.relu(x) \n",
        "\n",
        "      x = self.conv4(x)\n",
        "      # x = self.mxp4(x)\n",
        "      x = F.relu(x) \n",
        "\n",
        "      x = self.conv5(x)\n",
        "      x = self.mxp5(x)\n",
        "      x = F.relu(x)                          # x = [batch, C, heigth, width]\n",
        " \n",
        "      x = x.view(x.shape[0], x.shape[1], -1) # x = [batch, C, heigth*width]\n",
        "      \n",
        "      x1 = x.permute(0,2,1)                  # x1 = [batch, H*W, C]\n",
        "      x2 = x.permute(0,2,1)                  # x2 = [batch, H*W, C]\n",
        " \n",
        "      x1 = self.fc1(x1)                      # x1 = [batch, H*W, L]\n",
        "      x1 = x1.permute(0,2,1)                 # x1 = [batch, L, H*W]\n",
        " \n",
        "      x1 = F.softmax(x1, dim=-1)\n",
        "      t = torch.matmul(x1,x2)                # t = [batch, L, C]\n",
        "\n",
        "      return t, x"
      ],
      "execution_count": 6,
      "outputs": []
    },
    {
      "cell_type": "code",
      "metadata": {
        "id": "tcU0kZ8c-s3s"
      },
      "source": [
        "class Tokenizer_mnist(nn.Module):\n",
        "\n",
        "  def __init__(self, device, L):\n",
        "    super().__init__()\n",
        " \n",
        "    self.L = L\n",
        "\n",
        "    # Getting image features through layers of convolution\n",
        "    # convolutional Layer 1\n",
        "    self.conv1 = nn.Conv2d(in_channels=1, out_channels=16, kernel_size=3)\n",
        "    self.mxp1  = nn.MaxPool2d(kernel_size=2, stride=2)\n",
        "    \n",
        "    # convolutional Layer 2\n",
        "    self.conv2 = nn.Conv2d(in_channels=16, out_channels=64, kernel_size=1)\n",
        "    self.mxp2  = nn.MaxPool2d(kernel_size=2, stride=2)\n",
        "    \n",
        "    # convolutional Layer 3\n",
        "    self.conv3 = nn.Conv2d(in_channels=64, out_channels=128, kernel_size=3)\n",
        "    self.mxp3  = nn.MaxPool2d(kernel_size=2, stride=2)\n",
        "    \n",
        "    # convolutional Layer 4\n",
        "    self.conv4 = nn.Conv2d(in_channels=128, out_channels=256, kernel_size=1)\n",
        "    self.mxp4  = nn.MaxPool2d(kernel_size=2, stride=2)\n",
        "    \n",
        "    # convolutional Layer 5\n",
        "    self.conv5 = nn.Conv2d(in_channels=256, out_channels=512, kernel_size=3)\n",
        "    self.mxp5  = nn.MaxPool2d(kernel_size=2,  stride=2)\n",
        "    \n",
        "    # The fully connected layers to get tokens\n",
        "    self.fc1   = nn.Linear(512, L, bias=False)\n",
        "    \n",
        "  def forward(self, x):\n",
        "    \n",
        "      # x = [batch, channels, heigth, width]\n",
        "      x = self.conv1(x)\n",
        "      x = self.mxp1(x)\n",
        "      x = F.relu(x)\n",
        " \n",
        "      x = self.conv2(x)\n",
        "      # x = self.mxp2(x)\n",
        "      x = F.relu(x)\n",
        " \n",
        "      x = self.conv3(x)\n",
        "      x = self.mxp3(x)\n",
        "      x = F.relu(x) \n",
        "\n",
        "      x = self.conv4(x)\n",
        "      # x = self.mxp4(x)\n",
        "      x = F.relu(x) \n",
        "\n",
        "      x = self.conv5(x)\n",
        "      x = self.mxp5(x)\n",
        "      x = F.relu(x)                          # x = [batch, C, heigth, width]\n",
        " \n",
        "      x = x.view(x.shape[0], x.shape[1], -1) # x = [batch, C, heigth*width]\n",
        "      \n",
        "      x1 = x.permute(0,2,1)                  # x1 = [batch, H*W, C]\n",
        "      x2 = x.permute(0,2,1)                  # x2 = [batch, H*W, C]\n",
        " \n",
        "      x1 = self.fc1(x1)                      # x1 = [batch, H*W, L]\n",
        "      x1 = x1.permute(0,2,1)                 # x1 = [batch, L, H*W]\n",
        " \n",
        "      x1 = F.softmax(x1, dim=-1)\n",
        "      t = torch.matmul(x1,x2)                # t = [batch, L, C]\n",
        "\n",
        "      return t, x"
      ],
      "execution_count": 27,
      "outputs": []
    },
    {
      "cell_type": "code",
      "metadata": {
        "id": "-Rw5G0rQFGCh"
      },
      "source": [
        "# As specified in the paper, \n",
        "# l = number of tokens,\n",
        "# c = channels\n",
        "class Recurrent_tokenizer(nn.Module):\n",
        "\n",
        "  def __init__(self, device, l, c):\n",
        "    \n",
        "    super().__init__()\n",
        "    self.device = device\n",
        "\n",
        "    # get weights from previous token\n",
        "    self.token2wt = nn.Linear(c, c, bias=False)\n",
        "    \n",
        "  def forward(self, x, token):\n",
        "    \n",
        "    # token = [batch, L, C]\n",
        "    # X = [batch, C, H*W]\n",
        "\n",
        "    Wr = self.token2wt(token) #Wr = [batch, L, C]\n",
        "    Wr = Wr.permute(0,2,1)    #Wr = [batch, C, L]\n",
        "    \n",
        "    x = x.permute(0,2,1)      #x = [batch, H*W, C]\n",
        "\n",
        "    a = torch.matmul(x,Wr)    #a = [batch, H*W, C] x [batch, C, L] = [batch, H*W, L]\n",
        "    a = a.permute(0,2,1)      #a = [batch, L, H*W]\n",
        "    a = F.softmax(a, dim=-1)\n",
        "\n",
        "    t = torch.matmul(a,x)     #t = [batch, L, H*W] x  [batch, H*W, C] = [batch, L, C]\n",
        "\n",
        "    return t"
      ],
      "execution_count": 7,
      "outputs": []
    },
    {
      "cell_type": "code",
      "metadata": {
        "id": "BnrJ-KemFGAg"
      },
      "source": [
        "class Transformer(nn.Module):\n",
        "\n",
        "  def __init__(self, l, c):\n",
        "\n",
        "    super().__init__()\n",
        "    \n",
        "    self.token2Q = nn.Linear(c,c,bias=False)\n",
        "    self.token2K = nn.Linear(c,c,bias=False)\n",
        "\n",
        "    self.F1 = nn.Conv1d(in_channels=c,out_channels=c,kernel_size=1)\n",
        "    self.F2 = nn.Conv1d(in_channels=c,out_channels=c,kernel_size=1)\n",
        " \n",
        "  def forward(self, token):\n",
        "\n",
        "    # getting the key and query weights\n",
        "    Tk = self.token2K(token)\n",
        "    Tq = self.token2Q(token)\n",
        "    Tq = Tq.permute(0,2,1)\n",
        "\n",
        "    a = torch.matmul(Tk,Tq)\n",
        "    a = F.softmax(a,dim=-1)\n",
        "    a = torch.matmul(a,token)\n",
        "\n",
        "    T = token + a          #T = [batch, l, c]\n",
        "    T = T.permute(0,2,1)\n",
        "\n",
        "    T1 = self.F1(T)\n",
        "    T1 = F.relu(T1)\n",
        "    T1 = self.F2(T1)\n",
        "    T1 = T1 + T            #T1 = [batch, l, c]\n",
        "    T1 = T1.permute(0,2,1) #T1 = [batch, c, l]\n",
        "\n",
        "    return T1"
      ],
      "execution_count": 8,
      "outputs": []
    },
    {
      "cell_type": "code",
      "metadata": {
        "id": "HNJvXMbQFF9q"
      },
      "source": [
        "class Classifier(nn.Module):\n",
        "\n",
        "  def __init__(self, l, c):\n",
        "\n",
        "    super().__init__()\n",
        "    self.c = c\n",
        "    self.l = l\n",
        "    \n",
        "    self.avgPool = nn.AvgPool1d(kernel_size=3,stride=1)\n",
        "    self.fc1     = nn.Linear((l-2)*c,512)\n",
        "    self.fc2     = nn.Linear(512,10)\n",
        " \n",
        "  def forward(self,x):  \n",
        "    \n",
        "    # x = [batch, l, c]\n",
        "\n",
        "    x = x.permute(0,2,1)             # x = [batch, c, l]    \n",
        "    x = self.avgPool(x)\n",
        "\n",
        "    x = x.permute(0,2,1)\n",
        "    x = x.reshape(x.shape[0],-1)     # x = [batch, c*l]\n",
        "\n",
        "    x = self.fc1(x)\n",
        "    x = F.relu(x)\n",
        "    x = self.fc2(x)\n",
        "   \n",
        "    return x                         "
      ],
      "execution_count": 9,
      "outputs": []
    },
    {
      "cell_type": "code",
      "metadata": {
        "id": "dk31xXrTLFei"
      },
      "source": [
        "# Get the 1st token\n",
        "tokenizer = Tokenizer(device='cuda', L=16)\n",
        "# pass the consecutive tokens to recurrent tokenizer\n",
        "recurrent_tokenizer1 = Recurrent_tokenizer(device='cuda', l=16, c=512)\n",
        "recurrent_tokenizer2 = Recurrent_tokenizer(device='cuda', l=16, c=512)\n",
        "recurrent_tokenizer3 = Recurrent_tokenizer(device='cuda', l=16, c=512)\n",
        "recurrent_tokenizer4 = Recurrent_tokenizer(device='cuda', l=16, c=512)\n",
        "\n",
        "# Transformer for the final token\n",
        "transformer = Transformer(l=16, c=512)\n",
        "\n",
        "# Final classification\n",
        "classifier = Classifier(l=16, c=512)"
      ],
      "execution_count": 10,
      "outputs": []
    },
    {
      "cell_type": "code",
      "metadata": {
        "id": "H8AUE2Fh_AZJ"
      },
      "source": [
        "tokenizer_mnist = Tokenizer_mnist(device='cuda', L=16)\n",
        "recurrent_tokenizer1_mnist = Recurrent_tokenizer(device='cuda', l=16, c=512)\n",
        "recurrent_tokenizer2_mnist = Recurrent_tokenizer(device='cuda', l=16, c=512)\n",
        "recurrent_tokenizer3_mnist = Recurrent_tokenizer(device='cuda', l=16, c=512)\n",
        "recurrent_tokenizer4_mnist = Recurrent_tokenizer(device='cuda', l=16, c=512)\n",
        "transformer_mnist = Transformer(l=16, c=512)\n",
        "classifier_mnist = Classifier(l=16, c=512)"
      ],
      "execution_count": 41,
      "outputs": []
    },
    {
      "cell_type": "markdown",
      "metadata": {
        "id": "ZgbyGMdJ9zTT"
      },
      "source": [
        "### Combining all the modules of Visual Transformer to make a final class of model."
      ]
    },
    {
      "cell_type": "code",
      "metadata": {
        "id": "XkjRodTjFF6x"
      },
      "source": [
        "class DaMixer(nn.Module):\n",
        "\n",
        "  def __init__(self,tokenizer, recurrent_tokenizer1, \n",
        "               recurrent_tokenizer2, recurrent_tokenizer3, \n",
        "               recurrent_tokenizer4, transformer, classifier):\n",
        "    \n",
        "    super().__init__()\n",
        "    self.tokenizer = tokenizer\n",
        "\n",
        "    self.recurrent_tokenizer1 = recurrent_tokenizer1\n",
        "    self.recurrent_tokenizer2 = recurrent_tokenizer2\n",
        "    self.recurrent_tokenizer3 = recurrent_tokenizer3\n",
        "    self.recurrent_tokenizer4 = recurrent_tokenizer4\n",
        "\n",
        "    self.transformer = transformer\n",
        "    \n",
        "    self.classifier = classifier\n",
        " \n",
        "  def forward(self, x):\n",
        "\n",
        "    t, features = self.tokenizer(x)\n",
        "\n",
        "    t = self.recurrent_tokenizer1(features,t)\n",
        "    t = self.recurrent_tokenizer2(features,t)\n",
        "    t = self.recurrent_tokenizer3(features,t)\n",
        "    t = self.recurrent_tokenizer4(features,t)\n",
        "\n",
        "    t = self.transformer(t)\n",
        "    op = self.classifier(t)\n",
        "\n",
        "    return op"
      ],
      "execution_count": 36,
      "outputs": []
    },
    {
      "cell_type": "code",
      "metadata": {
        "id": "MVC2VRzV_T_a"
      },
      "source": [
        "model_mnist = DaMixer(tokenizer_mnist,recurrent_tokenizer1_mnist, recurrent_tokenizer2_mnist, \n",
        "                recurrent_tokenizer3_mnist, recurrent_tokenizer4_mnist, transformer_mnist, \n",
        "                classifier_mnist).to('cuda')"
      ],
      "execution_count": 42,
      "outputs": []
    },
    {
      "cell_type": "code",
      "metadata": {
        "id": "Qfh8qAVmFF4N",
        "colab": {
          "base_uri": "https://localhost:8080/"
        },
        "outputId": "9bb1dbfa-0dee-476d-8266-6fcb682b7cc1"
      },
      "source": [
        "\n",
        "model_cifar = DaMixer(tokenizer,recurrent_tokenizer1, recurrent_tokenizer2, \n",
        "                recurrent_tokenizer3, recurrent_tokenizer4, transformer, \n",
        "                classifier).to('cuda')\n",
        "print(model_mnist)"
      ],
      "execution_count": 12,
      "outputs": [
        {
          "output_type": "stream",
          "text": [
            "DaMixer(\n",
            "  (tokenizer): Tokenizer(\n",
            "    (conv1): Conv2d(3, 16, kernel_size=(3, 3), stride=(1, 1))\n",
            "    (mxp1): MaxPool2d(kernel_size=2, stride=2, padding=0, dilation=1, ceil_mode=False)\n",
            "    (conv2): Conv2d(16, 64, kernel_size=(1, 1), stride=(1, 1))\n",
            "    (mxp2): MaxPool2d(kernel_size=2, stride=2, padding=0, dilation=1, ceil_mode=False)\n",
            "    (conv3): Conv2d(64, 128, kernel_size=(3, 3), stride=(1, 1))\n",
            "    (mxp3): MaxPool2d(kernel_size=2, stride=2, padding=0, dilation=1, ceil_mode=False)\n",
            "    (conv4): Conv2d(128, 256, kernel_size=(1, 1), stride=(1, 1))\n",
            "    (mxp4): MaxPool2d(kernel_size=2, stride=2, padding=0, dilation=1, ceil_mode=False)\n",
            "    (conv5): Conv2d(256, 512, kernel_size=(3, 3), stride=(1, 1))\n",
            "    (mxp5): MaxPool2d(kernel_size=2, stride=2, padding=0, dilation=1, ceil_mode=False)\n",
            "    (fc1): Linear(in_features=512, out_features=16, bias=False)\n",
            "  )\n",
            "  (recurrent_tokenizer1): Recurrent_tokenizer(\n",
            "    (token2wt): Linear(in_features=512, out_features=512, bias=False)\n",
            "  )\n",
            "  (recurrent_tokenizer2): Recurrent_tokenizer(\n",
            "    (token2wt): Linear(in_features=512, out_features=512, bias=False)\n",
            "  )\n",
            "  (recurrent_tokenizer3): Recurrent_tokenizer(\n",
            "    (token2wt): Linear(in_features=512, out_features=512, bias=False)\n",
            "  )\n",
            "  (recurrent_tokenizer4): Recurrent_tokenizer(\n",
            "    (token2wt): Linear(in_features=512, out_features=512, bias=False)\n",
            "  )\n",
            "  (transformer): Transformer(\n",
            "    (token2Q): Linear(in_features=512, out_features=512, bias=False)\n",
            "    (token2K): Linear(in_features=512, out_features=512, bias=False)\n",
            "    (F1): Conv1d(512, 512, kernel_size=(1,), stride=(1,))\n",
            "    (F2): Conv1d(512, 512, kernel_size=(1,), stride=(1,))\n",
            "  )\n",
            "  (classifier): Classifier(\n",
            "    (avgPool): AvgPool1d(kernel_size=(3,), stride=(1,), padding=(0,))\n",
            "    (fc1): Linear(in_features=7168, out_features=512, bias=True)\n",
            "    (fc2): Linear(in_features=512, out_features=10, bias=True)\n",
            "  )\n",
            ")\n"
          ],
          "name": "stdout"
        }
      ]
    },
    {
      "cell_type": "code",
      "metadata": {
        "colab": {
          "base_uri": "https://localhost:8080/"
        },
        "id": "sPVb2V29Kj1D",
        "outputId": "8f656237-6f19-4d14-9835-9dc9c64c8218"
      },
      "source": [
        "def count_parameters(model):\n",
        "\n",
        "    table = PrettyTable([\"Modules\", \"Parameters\"])\n",
        "    total_params = 0\n",
        "\n",
        "    for name, parameter in model.named_parameters():\n",
        "        if not parameter.requires_grad: continue\n",
        "        param = parameter.numel()\n",
        "        table.add_row([name, param])\n",
        "        total_params+=param\n",
        "      \n",
        "    print(table)\n",
        "    print(f\"Total Trainable Params: {total_params}\")\n",
        "    \n",
        "    return total_params\n",
        "    \n",
        "count_parameters(model_mnist)"
      ],
      "execution_count": 13,
      "outputs": [
        {
          "output_type": "stream",
          "text": [
            "+--------------------------------------+------------+\n",
            "|               Modules                | Parameters |\n",
            "+--------------------------------------+------------+\n",
            "|        tokenizer.conv1.weight        |    432     |\n",
            "|         tokenizer.conv1.bias         |     16     |\n",
            "|        tokenizer.conv2.weight        |    1024    |\n",
            "|         tokenizer.conv2.bias         |     64     |\n",
            "|        tokenizer.conv3.weight        |   73728    |\n",
            "|         tokenizer.conv3.bias         |    128     |\n",
            "|        tokenizer.conv4.weight        |   32768    |\n",
            "|         tokenizer.conv4.bias         |    256     |\n",
            "|        tokenizer.conv5.weight        |  1179648   |\n",
            "|         tokenizer.conv5.bias         |    512     |\n",
            "|         tokenizer.fc1.weight         |    8192    |\n",
            "| recurrent_tokenizer1.token2wt.weight |   262144   |\n",
            "| recurrent_tokenizer2.token2wt.weight |   262144   |\n",
            "| recurrent_tokenizer3.token2wt.weight |   262144   |\n",
            "| recurrent_tokenizer4.token2wt.weight |   262144   |\n",
            "|      transformer.token2Q.weight      |   262144   |\n",
            "|      transformer.token2K.weight      |   262144   |\n",
            "|        transformer.F1.weight         |   262144   |\n",
            "|         transformer.F1.bias          |    512     |\n",
            "|        transformer.F2.weight         |   262144   |\n",
            "|         transformer.F2.bias          |    512     |\n",
            "|        classifier.fc1.weight         |  3670016   |\n",
            "|         classifier.fc1.bias          |    512     |\n",
            "|        classifier.fc2.weight         |    5120    |\n",
            "|         classifier.fc2.bias          |     10     |\n",
            "+--------------------------------------+------------+\n",
            "Total Trainable Params: 7070602\n"
          ],
          "name": "stdout"
        },
        {
          "output_type": "execute_result",
          "data": {
            "text/plain": [
              "7070602"
            ]
          },
          "metadata": {
            "tags": []
          },
          "execution_count": 13
        }
      ]
    },
    {
      "cell_type": "markdown",
      "metadata": {
        "id": "cFheCbPj-CLg"
      },
      "source": [
        "### Defining the training loop"
      ]
    },
    {
      "cell_type": "code",
      "metadata": {
        "id": "DIWh9RVGFF1v"
      },
      "source": [
        "# Train the network for classification\n",
        "def train(train_iterator, optimizer, criterion, model, EPOCHS):\n",
        "\n",
        "  model.train()\n",
        "  epoch_loss = []\n",
        "  x_list = []\n",
        "\n",
        "  for i in range(EPOCHS):\n",
        "    epoch_loss_accumulator=[]\n",
        "    epoch_loss.append([])\n",
        "    for n,data in enumerate(train_iterator):\n",
        "      images, labels = data                # images = [batch, c, height, width]\n",
        "                                           # labels = [batch]\n",
        "      images = images.to('cuda')\n",
        "      labels = labels.to('cuda')\n",
        "      optimizer.zero_grad()\n",
        "      output = model(images)               # output = [batch, classes]\n",
        "      loss = criterion(output,labels)\n",
        "      loss.backward()\n",
        "      optimizer.step()\n",
        "      epoch_loss_accumulator.append(loss.item())\n",
        "    epoch_loss[-1].append(sum(epoch_loss_accumulator)/len(epoch_loss_accumulator))\n",
        "    # if i%10==0:\n",
        "    print(\"Epoch : {} | Loss : {}\".format(i, epoch_loss[-1]))\n",
        "  return epoch_loss"
      ],
      "execution_count": 38,
      "outputs": []
    },
    {
      "cell_type": "code",
      "metadata": {
        "id": "6rGUsnhZFFy2"
      },
      "source": [
        "optimizer_mnist = optim.Adam(model_mnist.parameters(),lr=0.001)\n",
        "optimizer_cifar = optim.Adam(model_cifar.parameters(),lr=0.001)\n",
        "criterion_mnist = nn.CrossEntropyLoss()\n",
        "criterion = nn.CrossEntropyLoss()"
      ],
      "execution_count": 44,
      "outputs": []
    },
    {
      "cell_type": "code",
      "metadata": {
        "id": "RWxGxVfEFFwW",
        "colab": {
          "base_uri": "https://localhost:8080/"
        },
        "outputId": "076eb14d-34e3-4e62-c08d-606c1a692a2b"
      },
      "source": [
        "loss_cifar = train(trainloader_cifar, optimizer_cifar, criterion, model_cifar, 40)"
      ],
      "execution_count": 24,
      "outputs": [
        {
          "output_type": "stream",
          "text": [
            "Epoch : 0 | Loss : [0.952476659457194]\n",
            "Epoch : 10 | Loss : [0.4412459555825055]\n",
            "Epoch : 20 | Loss : [0.3020080537711028]\n",
            "Epoch : 30 | Loss : [0.24469404879502205]\n"
          ],
          "name": "stdout"
        }
      ]
    },
    {
      "cell_type": "code",
      "metadata": {
        "colab": {
          "base_uri": "https://localhost:8080/"
        },
        "id": "9R5f8vcn6j5d",
        "outputId": "3cd915bc-8534-480b-899d-69ebf9f2105e"
      },
      "source": [
        "loss_mnist = train(train_loader_mnist, optimizer_mnist, criterion_mnist, model_mnist, 3)"
      ],
      "execution_count": 45,
      "outputs": [
        {
          "output_type": "stream",
          "text": [
            "Epoch : 0 | Loss : [0.19026689887888779]\n",
            "Epoch : 1 | Loss : [0.05825666946841519]\n",
            "Epoch : 2 | Loss : [0.03986042954508207]\n"
          ],
          "name": "stdout"
        }
      ]
    },
    {
      "cell_type": "code",
      "metadata": {
        "id": "_UVmdDKpG1Sw"
      },
      "source": [
        "def accuracy(model, testloader, dataset_name):\n",
        "  correct = 0\n",
        "  total = 0\n",
        "  with torch.no_grad():\n",
        "      for data in testloader:\n",
        "          images, labels = data\n",
        "          images = images.to('cuda')\n",
        "          labels = labels.to('cuda')\n",
        "          outputs = model(images)\n",
        "          _, predicted = torch.max(outputs.data, 1)\n",
        "          total += labels.size(0)\n",
        "          correct += (predicted == labels).sum().item()\n",
        "  print(f'Accuracy of the network for {dataset_name} is: %d %%' % (\n",
        "      100 * correct / total))"
      ],
      "execution_count": 46,
      "outputs": []
    },
    {
      "cell_type": "code",
      "metadata": {
        "colab": {
          "base_uri": "https://localhost:8080/"
        },
        "id": "6kzgSePD85_F",
        "outputId": "00e3067a-54b2-45bd-ea0d-13b4c43f59b2"
      },
      "source": [
        "accuracy(model_cifar, testloader_cifar, 'CIFAR-10')\n",
        "accuracy(model_mnist, test_loader_mnist, 'MNIST')"
      ],
      "execution_count": 47,
      "outputs": [
        {
          "output_type": "stream",
          "text": [
            "Accuracy of the network for CIFAR-10 is: 67 %\n",
            "Accuracy of the network for MNIST is: 98 %\n"
          ],
          "name": "stdout"
        }
      ]
    },
    {
      "cell_type": "code",
      "metadata": {
        "colab": {
          "base_uri": "https://localhost:8080/",
          "height": 281
        },
        "id": "ctei2k-gBbJi",
        "outputId": "3f9d48e9-afa4-424c-a1c0-d5d8120b0e9b"
      },
      "source": [
        "plt.plot(loss_cifar)\n",
        "plt.title(\"Epoch loss curve for CIFAR-10\")\n",
        "plt.show()"
      ],
      "execution_count": 54,
      "outputs": [
        {
          "output_type": "display_data",
          "data": {
            "image/png": "[encoded data removed]",
            "text/plain": [
              "<Figure size 432x288 with 1 Axes>"
            ]
          },
          "metadata": {
            "tags": [],
            "needs_background": "light"
          }
        }
      ]
    },
    {
      "cell_type": "code",
      "metadata": {
        "colab": {
          "base_uri": "https://localhost:8080/",
          "height": 281
        },
        "id": "2VgzD8DsBeRb",
        "outputId": "09c35778-138a-4c6e-ebd1-c4a877f9c1f1"
      },
      "source": [
        "plt.plot(loss_mnist)\n",
        "plt.title(\"Epoch loss curve for MNIST\")\n",
        "plt.show()"
      ],
      "execution_count": 55,
      "outputs": [
        {
          "output_type": "display_data",
          "data": {
            "image/png": "[encoded data removed]",
            "text/plain": [
              "<Figure size 432x288 with 1 Axes>"
            ]
          },
          "metadata": {
            "tags": [],
            "needs_background": "light"
          }
        }
      ]
    },
    {
      "cell_type": "code",
      "metadata": {
        "id": "8sp3xfwCBwCR"
      },
      "source": [
        ""
      ],
      "execution_count": null,
      "outputs": []
    }
  ]
}